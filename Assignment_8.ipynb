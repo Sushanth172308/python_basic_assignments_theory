{
  "nbformat": 4,
  "nbformat_minor": 0,
  "metadata": {
    "colab": {
      "name": "Assignment_8.ipynb",
      "provenance": [],
      "collapsed_sections": [],
      "authorship_tag": "ABX9TyNSQnLQn5WHcTaoo26zR0Lg",
      "include_colab_link": true
    },
    "kernelspec": {
      "name": "python3",
      "display_name": "Python 3"
    },
    "language_info": {
      "name": "python"
    }
  },
  "cells": [
    {
      "cell_type": "markdown",
      "metadata": {
        "id": "view-in-github",
        "colab_type": "text"
      },
      "source": [
        "<a href=\"https://colab.research.google.com/github/Sushanth172308/python_basic_assignments_theory/blob/main/Assignment_8.ipynb\" target=\"_parent\"><img src=\"https://colab.research.google.com/assets/colab-badge.svg\" alt=\"Open In Colab\"/></a>"
      ]
    },
    {
      "cell_type": "markdown",
      "metadata": {
        "id": "1DdVCBr_WL7k"
      },
      "source": [
        "1. Is the Python Standard Library included with PyInputPlus?\n",
        "Answer:\n",
        "\n",
        "No it is not part of python standard Library so we must install it separately using pip.\n",
        "\n",
        "\n",
        "---\n",
        "\n",
        "\n",
        "2. Why is PyInputPlus commonly imported with import pyinputplus as pypi?\n",
        "Answer:\n",
        "\n",
        "The as pyip code in the import statement saves us from typing pyinputplus eachtime we want to call a PyInputplusfunction.Instead we use the shorter pyip name.\n",
        "\n",
        "---\n",
        "\n",
        "\n",
        "\n",
        "3. How do you distinguish between inputInt() and inputFloat()?\n",
        "\n",
        "Answer:\n",
        "\n",
        "inputInt()-->Prompts the user to enter an integer value. Returns the integer as an\n",
        "int value.\n",
        "\n",
        "inpoutFlat() -->Prompts the user to enter a floating point number value.\n",
        "Returns the number as a float.\n",
        "---\n",
        "\n",
        "\n",
        "4. Using PyInputPlus, how do you ensure that the user enters a whole number \n",
        "between 0 and 99?\n",
        "\n",
        "Answer:\n",
        "\n",
        "by using the function\n",
        "pyip.inputNum('Enter num:',min=0,lessThan =99)\n",
        "\n",
        "---\n",
        "\n",
        "\n",
        "5. What is transferred to the keyword arguments allowRegexes and blockRegexes?\n",
        "Answer:\n",
        "\n",
        "List of regex strings\n",
        "\n",
        "\n",
        "\n",
        "---\n",
        "\n",
        "\n",
        "6. If a blank input is entered three times, what does inputStr(limit=3) do?\n",
        "Answer:\n",
        "\n",
        "continoulsy executes runs the program but \n",
        "Throws an error like the below:\n",
        "Blank values are not allowed.\n",
        "\n",
        "---\n",
        "\n",
        "\n",
        "\n",
        "7. If blank input is entered three times, what does inputStr(limit=3, default='hello') do?\n",
        "\n",
        "Answer:\n",
        "Throws an error like the below: 3 times\n",
        "Blank values are not allowed.\n",
        "after three exections  program  stops.\n",
        "\n",
        "\n"
      ]
    },
    {
      "cell_type": "code",
      "metadata": {
        "colab": {
          "base_uri": "https://localhost:8080/"
        },
        "id": "ZXDBo6M3I4Yk",
        "outputId": "4d049fff-83e8-4148-bf46-fe0ccc29f1fc"
      },
      "source": [
        "pip install pyinputplus"
      ],
      "execution_count": null,
      "outputs": [
        {
          "output_type": "stream",
          "text": [
            "Collecting pyinputplus\n",
            "  Downloading https://files.pythonhosted.org/packages/6a/d4/afb45ed88323ef6d3c4cbf48e9c1bac38059a168b8392a56f3b8f9d1d39c/PyInputPlus-0.2.12.tar.gz\n",
            "  Installing build dependencies ... \u001b[?25l\u001b[?25hdone\n",
            "  Getting requirements to build wheel ... \u001b[?25l\u001b[?25hdone\n",
            "    Preparing wheel metadata ... \u001b[?25l\u001b[?25hdone\n",
            "Collecting stdiomask>=0.0.3\n",
            "  Downloading https://files.pythonhosted.org/packages/47/a2/f72fd263cecb11ed4cc96bd31608359e1df30349c665674e5c35ea9a72d6/stdiomask-0.0.6.tar.gz\n",
            "  Installing build dependencies ... \u001b[?25l\u001b[?25hdone\n",
            "  Getting requirements to build wheel ... \u001b[?25l\u001b[?25hdone\n",
            "    Preparing wheel metadata ... \u001b[?25l\u001b[?25hdone\n",
            "Collecting pysimplevalidate>=0.2.7\n",
            "  Downloading https://files.pythonhosted.org/packages/0b/54/8fd99436073dbdbba719e08e1b7e5f3f36a8cc9e518612e1b97e4806d2ce/PySimpleValidate-0.2.12.tar.gz\n",
            "  Installing build dependencies ... \u001b[?25l\u001b[?25hdone\n",
            "  Getting requirements to build wheel ... \u001b[?25l\u001b[?25hdone\n",
            "    Preparing wheel metadata ... \u001b[?25l\u001b[?25hdone\n",
            "Building wheels for collected packages: pyinputplus, stdiomask, pysimplevalidate\n",
            "  Building wheel for pyinputplus (PEP 517) ... \u001b[?25l\u001b[?25hdone\n",
            "  Created wheel for pyinputplus: filename=PyInputPlus-0.2.12-cp37-none-any.whl size=11315 sha256=5af77de1f9e153f8ccb1a9dc3e3a964a79d4c4bc32babcded42179fba6d65115\n",
            "  Stored in directory: /root/.cache/pip/wheels/6a/fe/06/583326d5cf9ab6319b08f44ffbb8b804acb97cec61274c4b7b\n",
            "  Building wheel for stdiomask (PEP 517) ... \u001b[?25l\u001b[?25hdone\n",
            "  Created wheel for stdiomask: filename=stdiomask-0.0.6-cp37-none-any.whl size=3320 sha256=132aed0250ea901138d6e55b14ea532ab890ae56f8997eb35f8ff5dd927cec38\n",
            "  Stored in directory: /root/.cache/pip/wheels/a6/ff/34/66b26f570405c34acc8f39b8ec3f27f5cbeea05234f18959fd\n",
            "  Building wheel for pysimplevalidate (PEP 517) ... \u001b[?25l\u001b[?25hdone\n",
            "  Created wheel for pysimplevalidate: filename=PySimpleValidate-0.2.12-cp37-none-any.whl size=16192 sha256=dd41086e2114f0b95ec14d0dd8284abdbb92aa35d6b3c9251c8540ccb60f9c3c\n",
            "  Stored in directory: /root/.cache/pip/wheels/11/08/e4/f395618ca9df12cfd52aa0d916153584a7e277bd5e87cf2fc2\n",
            "Successfully built pyinputplus stdiomask pysimplevalidate\n",
            "Installing collected packages: stdiomask, pysimplevalidate, pyinputplus\n",
            "Successfully installed pyinputplus-0.2.12 pysimplevalidate-0.2.12 stdiomask-0.0.6\n"
          ],
          "name": "stdout"
        }
      ]
    },
    {
      "cell_type": "code",
      "metadata": {
        "colab": {
          "base_uri": "https://localhost:8080/"
        },
        "id": "Wfr_vUvKIrRQ",
        "outputId": "45a476e1-5459-449f-b05b-1b9658699db4"
      },
      "source": [
        "\n",
        "import pyinputplus as pyip\n",
        "\n",
        "\n",
        "#input = pyip.inputStr(limit=3) \n",
        "\n",
        "\n",
        "input = pyip.inputStr(limit=3, default='hello')"
      ],
      "execution_count": null,
      "outputs": [
        {
          "output_type": "stream",
          "text": [
            "\n",
            "Blank values are not allowed.\n",
            "\n",
            "Blank values are not allowed.\n",
            "\n",
            "Blank values are not allowed.\n"
          ],
          "name": "stdout"
        }
      ]
    }
  ]
}