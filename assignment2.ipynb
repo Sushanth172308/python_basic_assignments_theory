{
  "nbformat": 4,
  "nbformat_minor": 0,
  "metadata": {
    "colab": {
      "name": "assignment2.ipynb",
      "provenance": [],
      "collapsed_sections": [],
      "authorship_tag": "ABX9TyPLeqjTNivOZv9R6lOsevVh",
      "include_colab_link": true
    },
    "kernelspec": {
      "name": "python3",
      "display_name": "Python 3"
    },
    "language_info": {
      "name": "python"
    }
  },
  "cells": [
    {
      "cell_type": "markdown",
      "metadata": {
        "id": "view-in-github",
        "colab_type": "text"
      },
      "source": [
        "<a href=\"https://colab.research.google.com/github/Sushanth172308/python_basic_assignments_theory/blob/main/assignment2.ipynb\" target=\"_parent\"><img src=\"https://colab.research.google.com/assets/colab-badge.svg\" alt=\"Open In Colab\"/></a>"
      ]
    },
    {
      "cell_type": "markdown",
      "metadata": {
        "id": "pvdFkFYtIQeQ"
      },
      "source": [
        "1.What are the two values of the Boolean data type? How do you write them?\n",
        "\n",
        "Answwer:\n",
        "\n",
        "1 and 0\n",
        "True and False\n",
        "\n",
        "---\n",
        "\n",
        "2. What are the three different types of Boolean operators?\n",
        " \n",
        " Answer:\n",
        "\n",
        " AND  OR and NOT\n",
        "\n",
        "\n",
        "---\n",
        "\n",
        "\n",
        " 3.3. Make a list of each Boolean operator's truth tables (i.e. every possible combination of Boolean values for the operator and what it evaluate ).\n",
        "\n",
        " Answer:\n",
        "https://github.com/Sushanth172308/images/blob/main/boolearn%20Truth%20table.png\n",
        "\n",
        "\n",
        "\n",
        "\n",
        "---\n",
        "\n",
        "\n",
        "\n",
        "\n",
        " 4. What are the values of the following expressions?\n",
        "\n",
        "not (5 > 4)-----> FALSE\n",
        "\n",
        "not (5 > 4)------------>FALSE\n",
        "\n",
        "(5 > 4) or (3 == 5)---->TRUE\n",
        "\n",
        "not ((5 > 4) or (3 == 5))--> FALSE\n",
        "\n",
        "(True and True) and (True == False)-->FALSE\n",
        "\n",
        "(not False) or (not True)--->TRUE\n",
        "\n",
        "\n",
        "\n",
        "---\n",
        "\n",
        "5. What are the six comparison operators?\n",
        "\n",
        "Answer:\n",
        "\n",
        "1. == Equal\n",
        "\n",
        "2. != Not Equal\n",
        "\n",
        "3. >  Greater than\n",
        "\n",
        "4. < Less than\n",
        "\n",
        "5. > = Greater than or equal to\n",
        "\n",
        "6. < = Less than or equal to \n",
        "\n",
        "\n",
        "---\n",
        "\n",
        "6. How do you tell the difference between the equal to and assignment operators?Describe a condition and when you would use one.\n",
        "\n",
        "Answer:\n",
        "\n",
        "= is an assignment operator. It assigns values from right side operends to the left side operand.\n",
        " on the other hand \n",
        " == is the comparison of two variable, list or string\n",
        "\n",
        "a = 10\n",
        "b = 10\n",
        "z = 20\n",
        "\n",
        "a==b is True \n",
        "b==z is False\n",
        "\n",
        "\n",
        "---\n",
        "\n",
        "\n",
        "\n",
        "\n",
        "\n",
        "\n",
        "\n",
        "\n",
        "\n",
        "\n",
        "\n",
        "\n",
        "\n",
        "\n",
        "\n",
        "\n",
        "\n"
      ]
    },
    {
      "cell_type": "code",
      "metadata": {
        "id": "Za1OIiDoNLFw",
        "colab": {
          "base_uri": "https://localhost:8080/"
        },
        "outputId": "0d12111b-be07-43cd-ad21-e03c34dea66c"
      },
      "source": [
        "# 7. Identify the three blocks in this code:\n",
        "spam = 0\n",
        "if spam == 10: \n",
        "  print('eggs')# block 1\n",
        "if spam > 5:   #block 1,\n",
        "  print('bacon') #block 1,2\n",
        "else:            # block 1 and block 2 ended in line above\n",
        " print('ham')   #block 1,3\n",
        "print('spam')   #block 1  and bock 3 ended in line above\n",
        "print('spam')   #bock 1 ended in line above\n"
      ],
      "execution_count": null,
      "outputs": [
        {
          "output_type": "stream",
          "text": [
            "ham\n",
            "spam\n",
            "spam\n"
          ],
          "name": "stdout"
        }
      ]
    },
    {
      "cell_type": "code",
      "metadata": {
        "colab": {
          "base_uri": "https://localhost:8080/"
        },
        "id": "j8oHbUd0fncR",
        "outputId": "0913657a-1a90-4e88-a9f6-3a0517817b77"
      },
      "source": [
        "#8. Write code that prints Hello if 1 is stored in spam, prints Howdy if 2 is stored in spam, and prints Greetings! if anything else is stored in spam.\n",
        "\n",
        "spam = 0\n",
        "if spam == 1:\n",
        "  print('Hello')\n",
        "if spam == 2:\n",
        "  print('Howdy')\n",
        "else:\n",
        "  print('Greeting')\n",
        "print('Greeting')\n",
        "print('Greeting')\n",
        "\n",
        "\n"
      ],
      "execution_count": null,
      "outputs": [
        {
          "output_type": "stream",
          "text": [
            "Greeting\n",
            "Greeting\n",
            "Greeting\n"
          ],
          "name": "stdout"
        }
      ]
    },
    {
      "cell_type": "markdown",
      "metadata": {
        "id": "ZMs8zrSNh4sF"
      },
      "source": [
        "9.If your programme is stuck in an endless loop, what keys you’ll press?\n",
        "Answer:\n",
        "\n",
        "\n",
        "CTRL +C\n",
        "\n",
        "\n",
        "\n",
        "\n",
        "---\n",
        "\n",
        "\n",
        "\n",
        "10. How can you tell the difference between break and continue?\n",
        "\n",
        "<b>Break</b>: When we use break keyword, it will exit the loop  \n",
        "\n",
        "<b>Continue</b>: When we use continue keyword in the program only current iteration that is running will be stopped and it will continue to excute the next loop.\n",
        "\n",
        "---\n",
        "\n",
        "\n",
        "\n",
        "\n",
        "11. In a for loop, what is the difference between range(10), range(0, 10), and range(0, 10, 1)?\n",
        "\n",
        "Answer :\n",
        "range(10):It will give us sequence of numbers \n",
        "starting from 0 to 9( 0 is default)\n",
        "\n",
        "range(0, 10): it will also produces the sequence of numbers starting from 0 to 9( we specified starting point)\n",
        "\n",
        "rangge(0, 10, 1): This will aslo produces the sequence of numberts starting from 0 to 9(we specified starting point and also step size)\n",
        "\n",
        "\n",
        "---\n",
        "\n",
        "\n",
        "\n",
        "\n",
        "\n",
        "12. Write a short program that prints the numbers 1 to 10 using a for loop. Then write an equivalent program that prints the numbers 1 to 10 using a while loop.\n",
        "Answer:\n",
        "\n",
        "<b>printing the numbers from  1 to 10</b>\n",
        "\n",
        "\n",
        "for i in range(1,11):\n",
        "\n",
        "\n",
        "  print(i)\n",
        "\n",
        "<b>printing the numbers from 1 to 10 by using while loop</b>\n",
        "\n",
        "\n",
        "i = 1 \n",
        "\n",
        "while i < 11:\n",
        "\n",
        "\n",
        "  print(i)\n",
        "\n",
        "  i+=1\n",
        "\n",
        "\n",
        "\n",
        "\n",
        "\n",
        "---\n",
        "\n",
        "\n",
        "13. If you had a function named bacon() inside a module named spam, how would you call it after importing spam?\n",
        "Answer:\n",
        "spam.becon()\n",
        "\n",
        "\n",
        "---\n",
        "\n",
        "\n",
        "\n"
      ]
    },
    {
      "cell_type": "code",
      "metadata": {
        "colab": {
          "base_uri": "https://localhost:8080/"
        },
        "id": "QWugzE_bDWT1",
        "outputId": "35cd5620-2c4b-4674-c264-2a5da7d34066"
      },
      "source": [
        "i = 1\n",
        "\n",
        "while i < 11:\n",
        "  print(i)\n",
        "\n",
        "  i+=1\n"
      ],
      "execution_count": null,
      "outputs": [
        {
          "output_type": "stream",
          "text": [
            "1\n",
            "2\n",
            "3\n",
            "4\n",
            "5\n",
            "6\n",
            "7\n",
            "8\n",
            "9\n",
            "10\n"
          ],
          "name": "stdout"
        }
      ]
    }
  ]
}