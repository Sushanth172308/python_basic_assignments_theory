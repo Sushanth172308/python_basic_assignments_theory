{
  "nbformat": 4,
  "nbformat_minor": 0,
  "metadata": {
    "colab": {
      "name": "Assignment_18.ipynb",
      "provenance": [],
      "collapsed_sections": [],
      "authorship_tag": "ABX9TyPu/IDhDh7Yyob/qR5n6xnB",
      "include_colab_link": true
    },
    "kernelspec": {
      "name": "python3",
      "display_name": "Python 3"
    },
    "language_info": {
      "name": "python"
    }
  },
  "cells": [
    {
      "cell_type": "markdown",
      "metadata": {
        "id": "view-in-github",
        "colab_type": "text"
      },
      "source": [
        "<a href=\"https://colab.research.google.com/github/Sushanth172308/python_basic_assignments_theory/blob/main/Assignment_18.ipynb\" target=\"_parent\"><img src=\"https://colab.research.google.com/assets/colab-badge.svg\" alt=\"Open In Colab\"/></a>"
      ]
    },
    {
      "cell_type": "markdown",
      "metadata": {
        "id": "yC_qmmrLoolA"
      },
      "source": [
        "1. Create a zoo.py file first. Define the hours() function, which prints the string 'Open 9-5 daily'. Then, use the interactive interpreter to import the zoo module and call its hours() function."
      ]
    },
    {
      "cell_type": "code",
      "metadata": {
        "id": "NpooH4HDotvO",
        "colab": {
          "base_uri": "https://localhost:8080/"
        },
        "outputId": "03d90714-8f8e-4ceb-8a23-bcb78da29df8"
      },
      "source": [
        "%%writefile zoo.py\n",
        "def hours():\n",
        "  print('Open 9-5 daily')"
      ],
      "execution_count": null,
      "outputs": [
        {
          "output_type": "stream",
          "text": [
            "Writing zoo.py\n"
          ],
          "name": "stdout"
        }
      ]
    },
    {
      "cell_type": "code",
      "metadata": {
        "colab": {
          "base_uri": "https://localhost:8080/",
          "height": 35
        },
        "id": "FYrgA0eNkJ_m",
        "outputId": "0de5ec06-a7d5-4857-b6f4-a9d9ac193bc0"
      },
      "source": [
        "import os\n",
        "os.getcwd()"
      ],
      "execution_count": null,
      "outputs": [
        {
          "output_type": "execute_result",
          "data": {
            "application/vnd.google.colaboratory.intrinsic+json": {
              "type": "string"
            },
            "text/plain": [
              "'/content'"
            ]
          },
          "metadata": {
            "tags": []
          },
          "execution_count": 6
        }
      ]
    },
    {
      "cell_type": "code",
      "metadata": {
        "colab": {
          "base_uri": "https://localhost:8080/"
        },
        "id": "hzcXbkhtk-c1",
        "outputId": "7518dd0a-9085-4be5-c53b-7c92204c697b"
      },
      "source": [
        "import zoo\n",
        "zoo.hours()"
      ],
      "execution_count": null,
      "outputs": [
        {
          "output_type": "stream",
          "text": [
            "Open 9-5 daily\n"
          ],
          "name": "stdout"
        }
      ]
    },
    {
      "cell_type": "markdown",
      "metadata": {
        "id": "-5nXEv89ouN9"
      },
      "source": [
        "2. In the interactive interpreter, import the zoo module as menagerie and call its hours() function."
      ]
    },
    {
      "cell_type": "code",
      "metadata": {
        "id": "5TCWiEgpox6g",
        "colab": {
          "base_uri": "https://localhost:8080/"
        },
        "outputId": "fd31db90-545b-4a60-d809-8830f6e90727"
      },
      "source": [
        "import zoo as menagerie\n",
        "menagerie.hours()"
      ],
      "execution_count": null,
      "outputs": [
        {
          "output_type": "stream",
          "text": [
            "Open 9-5 daily\n"
          ],
          "name": "stdout"
        }
      ]
    },
    {
      "cell_type": "markdown",
      "metadata": {
        "id": "jwIQg2C_p3Gw"
      },
      "source": [
        "3. Using the interpreter, explicitly import and call the hours() function from zoo."
      ]
    },
    {
      "cell_type": "code",
      "metadata": {
        "id": "wSaKY8k6o1BM",
        "colab": {
          "base_uri": "https://localhost:8080/"
        },
        "outputId": "34cde372-072b-4922-fc98-becc9b356ff4"
      },
      "source": [
        "from zoo import hours\n",
        "hours()"
      ],
      "execution_count": null,
      "outputs": [
        {
          "output_type": "stream",
          "text": [
            "Open 9-5 daily\n"
          ],
          "name": "stdout"
        }
      ]
    },
    {
      "cell_type": "markdown",
      "metadata": {
        "id": "O2qJZu26oyIL"
      },
      "source": [
        "4. Import the hours() function as info and call it."
      ]
    },
    {
      "cell_type": "code",
      "metadata": {
        "id": "2lxxMkeUo5T6",
        "colab": {
          "base_uri": "https://localhost:8080/"
        },
        "outputId": "07c3235f-a924-4a06-aa0f-496172913ff7"
      },
      "source": [
        "from zoo import hours as info\n",
        "info()"
      ],
      "execution_count": null,
      "outputs": [
        {
          "output_type": "stream",
          "text": [
            "Open 9-5 daily\n"
          ],
          "name": "stdout"
        }
      ]
    },
    {
      "cell_type": "markdown",
      "metadata": {
        "id": "K-MHNAK-o-YO"
      },
      "source": [
        "\n",
        "5. Create a plain dictionary with the key-value pairs 'a': 1, 'b': 2, and 'c': 3, and print it out."
      ]
    },
    {
      "cell_type": "code",
      "metadata": {
        "id": "cN_l7G9ApDzx",
        "colab": {
          "base_uri": "https://localhost:8080/"
        },
        "outputId": "ea581680-f8d7-4ad1-e028-5f9c0b89339b"
      },
      "source": [
        "plain = {'a':1,'b':2,'c':3}\n",
        "print('this is a Dict\\n')\n",
        "print(plain)\n"
      ],
      "execution_count": null,
      "outputs": [
        {
          "output_type": "stream",
          "text": [
            "this is a Dict\n",
            "\n",
            "{'a': 1, 'b': 2, 'c': 3}\n"
          ],
          "name": "stdout"
        }
      ]
    },
    {
      "cell_type": "markdown",
      "metadata": {
        "id": "DuZ6g_t4pEGv"
      },
      "source": [
        "6.Make an OrderedDict called fancy from the same pairs listed in 5 and print it. Did it print in the same order as plain?"
      ]
    },
    {
      "cell_type": "code",
      "metadata": {
        "id": "tQwp-oSjpHND",
        "colab": {
          "base_uri": "https://localhost:8080/"
        },
        "outputId": "7ccaf8fc-cb96-4127-a31c-9e8e5056f5a4"
      },
      "source": [
        "\n",
        "from collections import OrderedDict\n",
        "\n",
        "plain = ([('a', 1), ('b', 2), ('c', 3),])\n",
        "\n",
        "fancy = OrderedDict(plain)\n",
        "print('dict(plain):', dict(plain))\n",
        "print('fancy=', fancy)\n",
        "\n"
      ],
      "execution_count": null,
      "outputs": [
        {
          "output_type": "stream",
          "text": [
            "dict(plain): {'a': 1, 'b': 2, 'c': 3}\n",
            "fancy= OrderedDict([('a', 1), ('b', 2), ('c', 3)])\n"
          ],
          "name": "stdout"
        }
      ]
    },
    {
      "cell_type": "markdown",
      "metadata": {
        "id": "CsvSa4_ugx9I"
      },
      "source": [
        "In this case i have got the same  order has out put but in general ordereDict remembers the  order/n that keys were first inserted on the other hand regular dict doesn't track the order."
      ]
    },
    {
      "cell_type": "markdown",
      "metadata": {
        "id": "CFjqXu54pHzt"
      },
      "source": [
        "7. Make a default dictionary called dict_of_lists and pass it the argument list. Make the list dict_of_lists['a'] and append the value 'something for a' to it in one assignment. Print dict_of_lists['a'].\n",
        "\n"
      ]
    },
    {
      "cell_type": "markdown",
      "metadata": {
        "id": "cRhIqFMxg0ch"
      },
      "source": [
        ""
      ]
    },
    {
      "cell_type": "code",
      "metadata": {
        "id": "z_GHzS8ipW1l",
        "colab": {
          "base_uri": "https://localhost:8080/"
        },
        "outputId": "fd19045c-fbff-4583-e2b4-769f38be89df"
      },
      "source": [
        "from collections import defaultdict\n",
        "\n",
        "dict_of_list = defaultdict(list)\n",
        "dict_of_list['a'].append('something for a ')\n",
        "\n",
        "print(dict_of_list['a'])"
      ],
      "execution_count": null,
      "outputs": [
        {
          "output_type": "stream",
          "text": [
            "['something for a ']\n"
          ],
          "name": "stdout"
        }
      ]
    }
  ]
}