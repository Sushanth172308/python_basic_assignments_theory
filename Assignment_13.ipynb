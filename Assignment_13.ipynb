{
  "nbformat": 4,
  "nbformat_minor": 0,
  "metadata": {
    "colab": {
      "name": "Assignment_13.ipynb",
      "provenance": [],
      "collapsed_sections": [],
      "authorship_tag": "ABX9TyMpBfDW/jbMhngQDgKtvY99",
      "include_colab_link": true
    },
    "kernelspec": {
      "name": "python3",
      "display_name": "Python 3"
    },
    "language_info": {
      "name": "python"
    }
  },
  "cells": [
    {
      "cell_type": "markdown",
      "metadata": {
        "id": "view-in-github",
        "colab_type": "text"
      },
      "source": [
        "<a href=\"https://colab.research.google.com/github/Sushanth172308/python_basic_assignments_theory/blob/main/Assignment_13.ipynb\" target=\"_parent\"><img src=\"https://colab.research.google.com/assets/colab-badge.svg\" alt=\"Open In Colab\"/></a>"
      ]
    },
    {
      "cell_type": "markdown",
      "metadata": {
        "id": "_vS_9I_lIlk-"
      },
      "source": [
        "1. What advantages do Excel spreadsheets have over CSV spreadsheets?\n",
        "\n",
        "Answer:\n",
        "\n",
        "Some of the  advantages that excel spread sheets have over CSV are:\n",
        "\n",
        "1.spreadsheets can have values of datatypes other than strings \n",
        "\n",
        "2. Cells can have different fonts and sizes and color settings and cells can have different widths and heights\n",
        "\n",
        "3. Adjacent cells can be merged and we can even embed images and charts.\n",
        "\n",
        "\n",
        "\n",
        "\n",
        "---\n",
        "\n",
        "\n",
        "2.What do you pass to csv.reader() and csv.writer() to create reader and writer objects?\n",
        "\n",
        "Answer:you pass a file object which  we obtained from a call to open()\n",
        "\n",
        "\n",
        "---\n",
        "\n",
        "\n",
        "3. What modes do File objects for reader and writer objects need to be opened in?\n",
        "\n",
        "Answer:\n",
        "\n",
        "They need to be opened in:\n",
        "\n",
        "for Reader --> ('rb')-> Read binary\n",
        "\n",
        "for write --> ('wb')-> Write binary\n",
        "\n",
        "---\n",
        "\n",
        "\n",
        "4. What method takes a list argument and writes it to a CSV file?\n",
        "\n",
        "Answer:\n",
        "\n",
        "writerow() method\n",
        "\n",
        "---\n",
        "\n",
        "\n",
        "5. What do the keyword arguments delimiter and line terminator do?\n",
        "\n",
        "Answer:\n",
        "\n",
        "the keyword argument delimiter changes the string used to seperate cells in a row.\n",
        "\n",
        "The lineterminator argument changes the string used to serate rows(default newline)\n",
        "\n",
        "\n",
        "\n",
        "\n",
        "\n",
        "---\n",
        "\n",
        "\n",
        "6. What function takes a string of JSON data and returns a Python data structure?\n",
        "\n",
        "Answer:\n",
        "\n",
        "json.loads()  \n",
        "\n",
        "'s' stands for string\n",
        "\n",
        "\n",
        "---\n",
        "\n",
        "\n",
        "7. What function takes a Python data structure and returns a string of JSON data?\n",
        "\n",
        "json.dumps()"
      ]
    }
  ]
}