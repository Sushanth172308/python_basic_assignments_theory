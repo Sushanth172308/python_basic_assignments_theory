{
  "nbformat": 4,
  "nbformat_minor": 0,
  "metadata": {
    "colab": {
      "name": "Assignment_11.ipynb",
      "provenance": [],
      "collapsed_sections": [],
      "authorship_tag": "ABX9TyP3JphLpChe2Wow1sZRgIuM",
      "include_colab_link": true
    },
    "kernelspec": {
      "name": "python3",
      "display_name": "Python 3"
    },
    "language_info": {
      "name": "python"
    }
  },
  "cells": [
    {
      "cell_type": "markdown",
      "metadata": {
        "id": "view-in-github",
        "colab_type": "text"
      },
      "source": [
        "<a href=\"https://colab.research.google.com/github/Sushanth172308/python_basic_assignments_theory/blob/main/Assignment_11.ipynb\" target=\"_parent\"><img src=\"https://colab.research.google.com/assets/colab-badge.svg\" alt=\"Open In Colab\"/></a>"
      ]
    },
    {
      "cell_type": "code",
      "metadata": {
        "colab": {
          "base_uri": "https://localhost:8080/",
          "height": 346
        },
        "id": "BUYzqSMnvjx3",
        "outputId": "91d6c69d-8273-4121-a759-69fe37142d8b"
      },
      "source": [
        "#1. Create an assert statement that throws an AssertionError if the variable spam is a negative integer.\n",
        "\n",
        "#Answer:\n",
        "def assertfun(spam):\n",
        "  assert spam > 0 ,'Only positive integers are allowed'\n",
        "  return 'spam is positive integer'\n",
        "\n",
        "assertfun(-1)\n",
        "\n",
        "        "
      ],
      "execution_count": null,
      "outputs": [
        {
          "output_type": "error",
          "ename": "AssertionError",
          "evalue": "ignored",
          "traceback": [
            "\u001b[0;31m---------------------------------------------------------------------------\u001b[0m",
            "\u001b[0;31mAssertionError\u001b[0m                            Traceback (most recent call last)",
            "\u001b[0;32m<ipython-input-32-29625c60b0a2>\u001b[0m in \u001b[0;36m<module>\u001b[0;34m()\u001b[0m\n\u001b[1;32m      6\u001b[0m   \u001b[0;32mreturn\u001b[0m \u001b[0;34m'spam is positive integer'\u001b[0m\u001b[0;34m\u001b[0m\u001b[0;34m\u001b[0m\u001b[0m\n\u001b[1;32m      7\u001b[0m \u001b[0;34m\u001b[0m\u001b[0m\n\u001b[0;32m----> 8\u001b[0;31m \u001b[0massertfun\u001b[0m\u001b[0;34m(\u001b[0m\u001b[0;34m-\u001b[0m\u001b[0;36m1\u001b[0m\u001b[0;34m)\u001b[0m\u001b[0;34m\u001b[0m\u001b[0;34m\u001b[0m\u001b[0m\n\u001b[0m\u001b[1;32m      9\u001b[0m \u001b[0;34m\u001b[0m\u001b[0m\n\u001b[1;32m     10\u001b[0m \u001b[0;34m\u001b[0m\u001b[0m\n",
            "\u001b[0;32m<ipython-input-32-29625c60b0a2>\u001b[0m in \u001b[0;36massertfun\u001b[0;34m(spam)\u001b[0m\n\u001b[1;32m      3\u001b[0m \u001b[0;31m#Answer:\u001b[0m\u001b[0;34m\u001b[0m\u001b[0;34m\u001b[0m\u001b[0;34m\u001b[0m\u001b[0m\n\u001b[1;32m      4\u001b[0m \u001b[0;32mdef\u001b[0m \u001b[0massertfun\u001b[0m\u001b[0;34m(\u001b[0m\u001b[0mspam\u001b[0m\u001b[0;34m)\u001b[0m\u001b[0;34m:\u001b[0m\u001b[0;34m\u001b[0m\u001b[0;34m\u001b[0m\u001b[0m\n\u001b[0;32m----> 5\u001b[0;31m   \u001b[0;32massert\u001b[0m \u001b[0mspam\u001b[0m \u001b[0;34m>\u001b[0m \u001b[0;36m0\u001b[0m \u001b[0;34m,\u001b[0m\u001b[0;34m'Only positive integers are allowed'\u001b[0m\u001b[0;34m\u001b[0m\u001b[0;34m\u001b[0m\u001b[0m\n\u001b[0m\u001b[1;32m      6\u001b[0m   \u001b[0;32mreturn\u001b[0m \u001b[0;34m'spam is positive integer'\u001b[0m\u001b[0;34m\u001b[0m\u001b[0;34m\u001b[0m\u001b[0m\n\u001b[1;32m      7\u001b[0m \u001b[0;34m\u001b[0m\u001b[0m\n",
            "\u001b[0;31mAssertionError\u001b[0m: Only positive integers are allowed"
          ]
        }
      ]
    },
    {
      "cell_type": "code",
      "metadata": {
        "id": "GMTm_ueeqUhI"
      },
      "source": [
        "#2.Write an assert statement that triggers an AssertionError if the variables eggs and bacon contain strings that are the same as each other, even if their cases are different (that is, 'hello' and 'hello' are considered the same, and 'goodbye' and 'GOODbye' are also considered the same).\n",
        "eggs = 'hello'\n",
        "bacon = 'good bye'\n",
        "\n",
        "assert eggs.lower() != bacon.lower(),'eggs/bacon should not be the same!'\n",
        "assert eggs.upper() != bacon.upper(),'eggs/bacon should not be the same!'\n",
        "\n"
      ],
      "execution_count": null,
      "outputs": []
    },
    {
      "cell_type": "markdown",
      "metadata": {
        "id": "Pd7Dl-V3tjgj"
      },
      "source": [
        "\n",
        "\n",
        "\n",
        "3. Create an assert statement that throws an AssertionError every time.\n",
        "\n",
        "Answer:\n",
        "\n",
        "assert False,'this assertion will trigger always'\n",
        "\n",
        "\n",
        "---\n",
        "\n",
        "\n",
        "4. What are the two lines that must be present in your software in order to call logging.debug()?\n",
        "\n",
        "Answer:\n",
        "\n",
        "the following two lines must have at the start of the program inorder to call logging.debug()\n",
        "\n",
        "import logging\n",
        "logging.basicConfig(level = logging.DEBUG,format = '%(asctime)s -\n",
        "%(levelname)s - %(message)s')\n",
        "\n",
        "\n",
        "---\n",
        "\n",
        "\n",
        "5. What are the two lines that your program must have in order to have logging.debug() send a logging message to a file named programLog.txt?\n",
        "\n",
        "Answer:\n",
        "\n",
        "import logging\n",
        "logging.basicConfig(filename='programLog.txt', level=logging.DEBUG,\n",
        "format=' %(asctime)s - %(levelname)s - %(message)s')\n",
        "\n",
        "\n",
        "\n",
        "---\n",
        "\n",
        "\n",
        "6. What are the five levels of logging?\n",
        "\n",
        "\n",
        "Answer:\n",
        "\n",
        "The five levels of logging are:\n",
        "\n",
        "DEBUG,INFO,WARNING,ERROR and CRITICAL\n",
        "\n",
        "\n",
        "\n",
        "\n",
        "---\n",
        "\n",
        "\n",
        "7. What line of code would you add to your software to disable all logging messages?\n",
        "\n",
        "Answer:\n",
        "\n",
        "logging.disable(logging.CRITICAL)\n",
        "\n",
        "\n",
        "---\n",
        "\n",
        "\n",
        "8.Why is using logging messages better than using print() to display the same message?\n",
        "\n",
        "Answer\n",
        "\n",
        "Because \n",
        "\n",
        "1.we can disable logging messages without removing the logging function calls.\n",
        "\n",
        "2. we can create logging messges\n",
        "\n",
        "3. We can selectively disable lower-level logging messages \n",
        " 4. Logging messages also provides timestamp.\n",
        "\n",
        "\n",
        "\n",
        "\n",
        "\n",
        "---\n",
        "\n",
        "\n",
        "9. What are the differences between the Step Over, Step In, and Step Out buttons in the debugger?\n",
        "\n",
        "Answer:\n",
        "\n",
        "step over:this button will quickly execute the function call with out stepping in to it.\n",
        "\n",
        "setp in: will move the debugger to in the function call\n",
        "\n",
        "\n",
        "step out:It will execute the rest of the code until it steps out of the function it currently is in.\n",
        "\n",
        "\n",
        "\n",
        "---\n",
        "\n",
        "\n",
        "10. After you click Continue, when will the debugger stop ?\n",
        "\n",
        "Answer:\n",
        "\n",
        "the debugger will stop when it reahces end of the program or a line with a breakpoint\n",
        "\n",
        "\n",
        "---\n",
        "\n",
        "\n",
        "11. What is the concept of a breakpoint?\n",
        "\n",
        "Answer:\n",
        "\n",
        "A breakpoint is a reddot(mostly) on a line of code that causes the debugger to pause when the program execution reaches that line."
      ]
    }
  ]
}