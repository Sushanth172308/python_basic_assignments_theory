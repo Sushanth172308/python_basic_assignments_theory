{
  "nbformat": 4,
  "nbformat_minor": 0,
  "metadata": {
    "colab": {
      "name": "Assignment_16.ipynb",
      "provenance": [],
      "collapsed_sections": [],
      "authorship_tag": "ABX9TyMsidqj3OtDu7BqNQdMEsjy",
      "include_colab_link": true
    },
    "kernelspec": {
      "name": "python3",
      "display_name": "Python 3"
    },
    "language_info": {
      "name": "python"
    }
  },
  "cells": [
    {
      "cell_type": "markdown",
      "metadata": {
        "id": "view-in-github",
        "colab_type": "text"
      },
      "source": [
        "<a href=\"https://colab.research.google.com/github/Sushanth172308/python_basic_assignments_theory/blob/main/Assignment_16.ipynb\" target=\"_parent\"><img src=\"https://colab.research.google.com/assets/colab-badge.svg\" alt=\"Open In Colab\"/></a>"
      ]
    },
    {
      "cell_type": "markdown",
      "metadata": {
        "id": "vNzXpkiSlYJQ"
      },
      "source": [
        "1. Create a list called years_list, starting with the year of your birth, and each year thereafter until the year of your fifth birthday. For example, if you were born in 1980. the list would be years_list = [1980, 1981, 1982, 1983, 1984, 1985]."
      ]
    },
    {
      "cell_type": "code",
      "metadata": {
        "id": "KKDrcRLxlWmc"
      },
      "source": [
        "year_list = [1980,1981,1982,1983,1984,1985]"
      ],
      "execution_count": null,
      "outputs": []
    },
    {
      "cell_type": "markdown",
      "metadata": {
        "id": "-kI-g6v2l0fU"
      },
      "source": [
        "2. In which year in years_list was your third birthday? Remember, you were 0 years of age for your first year."
      ]
    },
    {
      "cell_type": "code",
      "metadata": {
        "colab": {
          "base_uri": "https://localhost:8080/"
        },
        "id": "QpKf1GcDlwjq",
        "outputId": "a42c86e8-6fda-4649-950f-93b5c7988458"
      },
      "source": [
        "year_list[2]"
      ],
      "execution_count": null,
      "outputs": [
        {
          "output_type": "execute_result",
          "data": {
            "text/plain": [
              "1982"
            ]
          },
          "metadata": {
            "tags": []
          },
          "execution_count": 3
        }
      ]
    },
    {
      "cell_type": "markdown",
      "metadata": {
        "id": "s-cZ8Luqmm6a"
      },
      "source": [
        "3..In the years list, which year were you the oldest?"
      ]
    },
    {
      "cell_type": "code",
      "metadata": {
        "colab": {
          "base_uri": "https://localhost:8080/"
        },
        "id": "KDJ6xBOElef0",
        "outputId": "a7d8ff2a-4f80-463a-bacf-999d8e6d1443"
      },
      "source": [
        "year_list[-1]"
      ],
      "execution_count": null,
      "outputs": [
        {
          "output_type": "execute_result",
          "data": {
            "text/plain": [
              "1985"
            ]
          },
          "metadata": {
            "tags": []
          },
          "execution_count": 5
        }
      ]
    },
    {
      "cell_type": "markdown",
      "metadata": {
        "id": "G3OyzEmjnC2e"
      },
      "source": [
        "4. Make a list called things with these three strings as elements: \"mozzarella\", \"cinderella\", \"salmonella\".\n"
      ]
    },
    {
      "cell_type": "code",
      "metadata": {
        "id": "k0Z7mUwEnJw2"
      },
      "source": [
        "things =[\"mozzarella\", \"cinderella\", \"salmonella\"]"
      ],
      "execution_count": null,
      "outputs": []
    },
    {
      "cell_type": "markdown",
      "metadata": {
        "id": "OhqYYpqin-BJ"
      },
      "source": [
        "5. Capitalize the element in things that refers to a person and then print the list. Did it change the element in the list?\n",
        "\n",
        "Answer:\n",
        "\n",
        "we still have 3 elements after capitalize."
      ]
    },
    {
      "cell_type": "code",
      "metadata": {
        "id": "duXIqFwGoCyB",
        "colab": {
          "base_uri": "https://localhost:8080/"
        },
        "outputId": "3c2b0948-ec85-445d-bf7c-d61952c6b753"
      },
      "source": [
        "things =[\"mozzarella\", \"cinderella\", \"salmonella\"]\n",
        "sudhanshu = []\n",
        "for i in things:\n",
        "  sudhanshu.append(i.upper())\n",
        "print(sudhanshu)"
      ],
      "execution_count": null,
      "outputs": [
        {
          "output_type": "stream",
          "text": [
            "['MOZZARELLA', 'CINDERELLA', 'SALMONELLA']\n"
          ],
          "name": "stdout"
        }
      ]
    },
    {
      "cell_type": "markdown",
      "metadata": {
        "id": "WQZuIGp-8OoO"
      },
      "source": [
        "6. Make a surprise list with the elements \"Groucho,\" \"Chico,\" and \"Harpo.\""
      ]
    },
    {
      "cell_type": "code",
      "metadata": {
        "id": "RufeGmE-8ZbS"
      },
      "source": [
        "surprise_list = [\"Groucho\", \"Chico\",\"Harpo\"]"
      ],
      "execution_count": null,
      "outputs": []
    },
    {
      "cell_type": "markdown",
      "metadata": {
        "id": "nFPKmkJM8nXn"
      },
      "source": [
        "7. Lowercase the last element of the surprise list, reverse it, and then capitalize it."
      ]
    },
    {
      "cell_type": "code",
      "metadata": {
        "colab": {
          "base_uri": "https://localhost:8080/",
          "height": 35
        },
        "id": "gOa6CLwL8p4w",
        "outputId": "97e23475-a44e-4a06-a6ed-46650f061ff9"
      },
      "source": [
        "#A.Lower case last element of the surprise list:\n",
        "\n",
        "surprise_list = [\"Groucho\", \"Chico\",\"Harpo\"]\n",
        "s = surprise_list[-1].lower()\n",
        "\n",
        "\n",
        "#B . reversing list\n",
        "s[::-1]\n",
        "\n",
        "\n",
        "#C .Capitalize the list\n",
        "s.capitalize()\n",
        "\n"
      ],
      "execution_count": null,
      "outputs": [
        {
          "output_type": "execute_result",
          "data": {
            "application/vnd.google.colaboratory.intrinsic+json": {
              "type": "string"
            },
            "text/plain": [
              "'Harpo'"
            ]
          },
          "metadata": {
            "tags": []
          },
          "execution_count": 85
        }
      ]
    },
    {
      "cell_type": "markdown",
      "metadata": {
        "id": "YR0-YmPgTRbM"
      },
      "source": [
        "8.Make an English-to-French dictionary called e2f and print it. Here are your starter words: dog is chien, cat is chat, and walrus is morse."
      ]
    },
    {
      "cell_type": "code",
      "metadata": {
        "colab": {
          "base_uri": "https://localhost:8080/"
        },
        "id": "aIoRe7oJTK3S",
        "outputId": "8f007520-e222-4c46-a6eb-4558cd0f6de3"
      },
      "source": [
        "e2f ={ 'dog':'chien','cat':'chat','walrus':'morse'}\n",
        "print(e2f)\n"
      ],
      "execution_count": null,
      "outputs": [
        {
          "output_type": "stream",
          "text": [
            "{'dog': 'chien', 'cat': 'chat', 'walrus': 'morse'}\n"
          ],
          "name": "stdout"
        }
      ]
    },
    {
      "cell_type": "markdown",
      "metadata": {
        "id": "mbkV2Je7VnQk"
      },
      "source": [
        "9. Write the French word for walrus in your three-word dictionary e2f."
      ]
    },
    {
      "cell_type": "code",
      "metadata": {
        "colab": {
          "base_uri": "https://localhost:8080/"
        },
        "id": "geg-EStlVsIC",
        "outputId": "dae48d8d-6489-4279-bf7f-197d69f97caf"
      },
      "source": [
        "print('French word for walrus:',e2f['walrus'])"
      ],
      "execution_count": null,
      "outputs": [
        {
          "output_type": "stream",
          "text": [
            "French word for walrus: morse\n"
          ],
          "name": "stdout"
        }
      ]
    },
    {
      "cell_type": "markdown",
      "metadata": {
        "id": "Vvu2f9P5YnKw"
      },
      "source": [
        "10. Make a French-to-English dictionary called f2e from e2f. Use the items method."
      ]
    },
    {
      "cell_type": "code",
      "metadata": {
        "colab": {
          "base_uri": "https://localhost:8080/"
        },
        "id": "MKxv_Pj7Yo6k",
        "outputId": "292d7215-6664-4e6d-fa54-2d774fd7340d"
      },
      "source": [
        "f2e = dict((a,b)for b,a in e2f.items())\n",
        "print(f2e)"
      ],
      "execution_count": null,
      "outputs": [
        {
          "output_type": "stream",
          "text": [
            "{'chien': 'dog', 'chat': 'cat', 'morse': 'walrus'}\n"
          ],
          "name": "stdout"
        }
      ]
    },
    {
      "cell_type": "markdown",
      "metadata": {
        "id": "XyeXsAOcdRIg"
      },
      "source": [
        "11. Print the English version of the French word chien using f2e."
      ]
    },
    {
      "cell_type": "code",
      "metadata": {
        "colab": {
          "base_uri": "https://localhost:8080/",
          "height": 35
        },
        "id": "YSaPwEupdUm_",
        "outputId": "92c47f77-5c85-4e1e-9d48-faa46fb8a11a"
      },
      "source": [
        "f2e['chien']"
      ],
      "execution_count": null,
      "outputs": [
        {
          "output_type": "execute_result",
          "data": {
            "application/vnd.google.colaboratory.intrinsic+json": {
              "type": "string"
            },
            "text/plain": [
              "'dog'"
            ]
          },
          "metadata": {
            "tags": []
          },
          "execution_count": 89
        }
      ]
    },
    {
      "cell_type": "markdown",
      "metadata": {
        "id": "LH0v8GzpdqwZ"
      },
      "source": [
        "\n",
        "12. Make and print a set of English words from the keys in e2f."
      ]
    },
    {
      "cell_type": "code",
      "metadata": {
        "colab": {
          "base_uri": "https://localhost:8080/"
        },
        "id": "Vw6_v6LCdsXt",
        "outputId": "bd15dce0-3800-4993-a5a2-a50f415f6a38"
      },
      "source": [
        "e2f.keys()"
      ],
      "execution_count": null,
      "outputs": [
        {
          "output_type": "execute_result",
          "data": {
            "text/plain": [
              "dict_keys(['dog', 'cat', 'walrus'])"
            ]
          },
          "metadata": {
            "tags": []
          },
          "execution_count": 90
        }
      ]
    },
    {
      "cell_type": "markdown",
      "metadata": {
        "id": "y-xZjd5md76n"
      },
      "source": [
        "13. Make a multilevel dictionary called life. Use these strings for the topmost keys: 'animals', 'plants', and 'other'. Make the 'animals' key refer to another dictionary with the keys 'cats', 'octopi', and 'emus'. Make the 'cats' key refer to a list of strings with the values 'Henri', 'Grumpy', and 'Lucy'. Make all the other keys refer to empty dictionaries."
      ]
    },
    {
      "cell_type": "code",
      "metadata": {
        "id": "iOR95hyreCQu"
      },
      "source": [
        "animal = {'cats':['Henri','Grumpy','Lucy'],'octopi':'','emus':''}\n",
        "life = {'animals':animal,'plants':'','other':''}\n"
      ],
      "execution_count": null,
      "outputs": []
    },
    {
      "cell_type": "markdown",
      "metadata": {
        "id": "8UiVFz_1f_ex"
      },
      "source": [
        "14. Print the top-level keys of life.\n"
      ]
    },
    {
      "cell_type": "code",
      "metadata": {
        "colab": {
          "base_uri": "https://localhost:8080/"
        },
        "id": "tOuwkyiXgfvz",
        "outputId": "404f6d8d-d74c-4f6e-d12e-d3f8f0cb3034"
      },
      "source": [
        "life.keys()"
      ],
      "execution_count": null,
      "outputs": [
        {
          "output_type": "execute_result",
          "data": {
            "text/plain": [
              "dict_keys(['animal', 'plants', 'other'])"
            ]
          },
          "metadata": {
            "tags": []
          },
          "execution_count": 95
        }
      ]
    },
    {
      "cell_type": "markdown",
      "metadata": {
        "id": "gHuup4yggOuc"
      },
      "source": [
        "15. Print the keys for life['animals']."
      ]
    },
    {
      "cell_type": "code",
      "metadata": {
        "colab": {
          "base_uri": "https://localhost:8080/"
        },
        "id": "UoqGjFNOguAD",
        "outputId": "82446c25-b147-4068-c0d7-50e11b9e5e15"
      },
      "source": [
        "life['animals'].keys()"
      ],
      "execution_count": null,
      "outputs": [
        {
          "output_type": "execute_result",
          "data": {
            "text/plain": [
              "dict_keys(['cats', 'octopi', 'emus'])"
            ]
          },
          "metadata": {
            "tags": []
          },
          "execution_count": 100
        }
      ]
    },
    {
      "cell_type": "markdown",
      "metadata": {
        "id": "ffKSJlbJgdKG"
      },
      "source": [
        "16. Print the values for life['animals']['cats']"
      ]
    },
    {
      "cell_type": "code",
      "metadata": {
        "colab": {
          "base_uri": "https://localhost:8080/"
        },
        "id": "_S6uUdfngUB8",
        "outputId": "1bcda18f-104a-4b6f-9826-a1122ed20e77"
      },
      "source": [
        "life['animals']['cats']"
      ],
      "execution_count": null,
      "outputs": [
        {
          "output_type": "execute_result",
          "data": {
            "text/plain": [
              "['Henri', 'Grumpy', 'Lucy']"
            ]
          },
          "metadata": {
            "tags": []
          },
          "execution_count": 102
        }
      ]
    },
    {
      "cell_type": "code",
      "metadata": {
        "id": "0fjaAJe-gRQ9"
      },
      "source": [
        ""
      ],
      "execution_count": null,
      "outputs": []
    },
    {
      "cell_type": "code",
      "metadata": {
        "id": "_bXGZj1Nh1qT"
      },
      "source": [
        ""
      ],
      "execution_count": null,
      "outputs": []
    }
  ]
}