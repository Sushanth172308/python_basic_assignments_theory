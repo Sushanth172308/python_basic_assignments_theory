{
  "nbformat": 4,
  "nbformat_minor": 0,
  "metadata": {
    "colab": {
      "name": "Assignment_10.ipynb",
      "provenance": [],
      "collapsed_sections": [],
      "authorship_tag": "ABX9TyM1uwmHuT8rmy1YIfu8OLxL",
      "include_colab_link": true
    },
    "kernelspec": {
      "name": "python3",
      "display_name": "Python 3"
    },
    "language_info": {
      "name": "python"
    }
  },
  "cells": [
    {
      "cell_type": "markdown",
      "metadata": {
        "id": "view-in-github",
        "colab_type": "text"
      },
      "source": [
        "<a href=\"https://colab.research.google.com/github/Sushanth172308/python_basic_assignments_theory/blob/main/Assignment_10.ipynb\" target=\"_parent\"><img src=\"https://colab.research.google.com/assets/colab-badge.svg\" alt=\"Open In Colab\"/></a>"
      ]
    },
    {
      "cell_type": "markdown",
      "metadata": {
        "id": "MrLFvsl-5m4V"
      },
      "source": [
        "1. How do you distinguish between shutil.copy() and shutil.copytree()?\n",
        "\n",
        "Answer:\n",
        "\n",
        "shutil.copy()--> will copy a single file\n",
        "\n",
        "shutil.copytree()--> will copy an entire folder and every folder and files in it.\n",
        "\n",
        "\n",
        "\n",
        "---\n",
        "\n",
        "\n",
        "2. What function is used to rename files??\n",
        "Answer:\n",
        "\n",
        "os.rename()\n",
        "\n",
        "\n",
        "---\n",
        "\n",
        "\n",
        "3. What is the difference between the delete functions in the send2trash and shutil modules?\n",
        "\n",
        "Answer:\n",
        "\n",
        "shutil modules delete : deletes files and folders permanently.\n",
        "\n",
        "\n",
        "send2trash delete: it will send folders and files to computer trash or recycle bin insted of pernanently deleting them.we can later restore it from bin if needed.\n",
        "\n",
        "\n",
        "\n",
        "\n",
        "---\n",
        "\n",
        "\n",
        "4.ZipFile objects have a close() method just like File objects’ close() method. What ZipFile method is equivalent to File objects’ open() method?\n",
        "\n",
        "\n",
        "Answer: extractall()\n"
      ]
    },
    {
      "cell_type": "code",
      "metadata": {
        "id": "viQGNshvJ3Cm"
      },
      "source": [
        "#5. Create a programme that searches a folder tree for files with a certain file extension (such as .pdf or .jpg). Copy these files from whatever location they are in to a new folder.\n",
        "\n",
        "import os\n",
        "import shutil\n",
        "def searchfolder(folder,extensions,desFolder):\n",
        "  folder = os.path.abspath(folder)\n",
        "  desFolder = os.path.abspath(desFolder)\n",
        "  print('searching in ',folder,'Extension type of',','.join(extensions))\n",
        "  for foldername,subfolders,filenames in os.walk(folder):\n",
        "    for filename in filenames:\n",
        "      name,extension =os.path.splitext(filename)\n",
        "      if extension in extensions:\n",
        "        fileAbsPath = foldername +os.path.sep+filenames\n",
        "        print('copying',fileAbsPath, 'to' ,desFolder)\n",
        "        shutil.copy(fileAbsPath,desFolder)\n",
        "\n",
        "\n"
      ],
      "execution_count": null,
      "outputs": []
    }
  ]
}