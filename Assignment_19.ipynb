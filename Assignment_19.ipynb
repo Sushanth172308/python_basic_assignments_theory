{
  "nbformat": 4,
  "nbformat_minor": 0,
  "metadata": {
    "colab": {
      "name": "Assignment_19.ipynb",
      "provenance": [],
      "collapsed_sections": [],
      "authorship_tag": "ABX9TyPB2dp9fX+U7z8u8bJnj/1x",
      "include_colab_link": true
    },
    "kernelspec": {
      "name": "python3",
      "display_name": "Python 3"
    },
    "language_info": {
      "name": "python"
    }
  },
  "cells": [
    {
      "cell_type": "markdown",
      "metadata": {
        "id": "view-in-github",
        "colab_type": "text"
      },
      "source": [
        "<a href=\"https://colab.research.google.com/github/Sushanth172308/python_basic_assignments_theory/blob/main/Assignment_19.ipynb\" target=\"_parent\"><img src=\"https://colab.research.google.com/assets/colab-badge.svg\" alt=\"Open In Colab\"/></a>"
      ]
    },
    {
      "cell_type": "markdown",
      "metadata": {
        "id": "7SMJGxHIY2k_"
      },
      "source": [
        "1. Make a class called Thing with no contents and print it. Then, create an object called example from this class and also print it. Are the printed values the same or different?"
      ]
    },
    {
      "cell_type": "code",
      "metadata": {
        "id": "-BIU_IW-ZN3e",
        "colab": {
          "base_uri": "https://localhost:8080/"
        },
        "outputId": "9a08f4dd-90f3-49c9-e30c-f17e7781f630"
      },
      "source": [
        "class Thing:\n",
        "  pass\n",
        "print(Thing)"
      ],
      "execution_count": null,
      "outputs": [
        {
          "output_type": "stream",
          "text": [
            "<class '__main__.Thing'>\n"
          ],
          "name": "stdout"
        }
      ]
    },
    {
      "cell_type": "code",
      "metadata": {
        "colab": {
          "base_uri": "https://localhost:8080/"
        },
        "id": "bCaqKFm1FwTa",
        "outputId": "7672f28b-2344-47ac-b3a9-f3d01c120749"
      },
      "source": [
        "example =Thing()\n",
        "\n",
        "print(example)\n",
        "\n",
        "\n"
      ],
      "execution_count": null,
      "outputs": [
        {
          "output_type": "stream",
          "text": [
            "<__main__.Thing object at 0x7f4925abf950>\n"
          ],
          "name": "stdout"
        }
      ]
    },
    {
      "cell_type": "markdown",
      "metadata": {
        "id": "B4DCqbgOGwjv"
      },
      "source": [
        "no, they are not same "
      ]
    },
    {
      "cell_type": "markdown",
      "metadata": {
        "id": "dE_85F6GZP-s"
      },
      "source": [
        "2. Create a new class called Thing2 and add the value 'abc' to the letters class attribute. Letters should be printed."
      ]
    },
    {
      "cell_type": "code",
      "metadata": {
        "id": "ppXKpSMsZCb4"
      },
      "source": [
        "class Thing2:\n",
        "  letters ='abc'\n",
        "  \n"
      ],
      "execution_count": null,
      "outputs": []
    },
    {
      "cell_type": "code",
      "metadata": {
        "colab": {
          "base_uri": "https://localhost:8080/"
        },
        "id": "tefI7OfhJRRu",
        "outputId": "6be709ca-3a4b-46a2-a598-bac87f1283e5"
      },
      "source": [
        "print(Thing2.letters)"
      ],
      "execution_count": null,
      "outputs": [
        {
          "output_type": "stream",
          "text": [
            "abc\n"
          ],
          "name": "stdout"
        }
      ]
    },
    {
      "cell_type": "markdown",
      "metadata": {
        "id": "iBwPRLisZDUI"
      },
      "source": [
        "3. Make yet another class called, of course, Thing3. This time, assign the value 'xyz' to an instance (object) attribute called letters. Print letters. Do you need to make an object from the class to do this?"
      ]
    },
    {
      "cell_type": "markdown",
      "metadata": {
        "id": "WngxOfdAm10C"
      },
      "source": [
        "Yes, we need to create a object from the class."
      ]
    },
    {
      "cell_type": "code",
      "metadata": {
        "id": "olRpz_5cZX8L"
      },
      "source": [
        "class Thing3:\n",
        "  def __init__(self):\n",
        "    self.letters = 'xyz'\n",
        "      \n"
      ],
      "execution_count": null,
      "outputs": []
    },
    {
      "cell_type": "code",
      "metadata": {
        "colab": {
          "base_uri": "https://localhost:8080/"
        },
        "id": "eRqMKL-NKewf",
        "outputId": "11ebcd12-5822-44a9-a64f-edcf8a0f317b"
      },
      "source": [
        "letters1 = Thing3()\n",
        "print(letters1.letters)"
      ],
      "execution_count": null,
      "outputs": [
        {
          "output_type": "stream",
          "text": [
            "xyz\n"
          ],
          "name": "stdout"
        }
      ]
    },
    {
      "cell_type": "markdown",
      "metadata": {
        "id": "SZgdwNzkZYfh"
      },
      "source": [
        "4. Create an Element class with the instance attributes name, symbol, and number. Create a class object with the values 'Hydrogen,' 'H,' and 1."
      ]
    },
    {
      "cell_type": "code",
      "metadata": {
        "id": "-07TX_dzZdW7"
      },
      "source": [
        "class Element:\n",
        "  def __init__(self,name,symbol,number):\n",
        "    self.name = name\n",
        "    self.symbol = symbol\n",
        "    self.number = number\n",
        "\n",
        "\n",
        "hydrogen = Element('Hydrogen', 'H', 1)\n"
      ],
      "execution_count": null,
      "outputs": []
    },
    {
      "cell_type": "markdown",
      "metadata": {
        "id": "ylmft7fYZdzt"
      },
      "source": [
        "5. Make a dictionary with these keys and values: 'name': 'Hydrogen', 'symbol': 'H', 'number': 1. Then, create an object called hydrogen from class Element using this dictionary."
      ]
    },
    {
      "cell_type": "code",
      "metadata": {
        "id": "gPsLBPeeZiIQ"
      },
      "source": [
        "dict1 = {'name':'Hydrogen','symbol':'H','number':1}\n",
        "\n",
        "hydrogen =Element(**dict1)\n"
      ],
      "execution_count": null,
      "outputs": []
    },
    {
      "cell_type": "markdown",
      "metadata": {
        "id": "gKtCwci4ZmWi"
      },
      "source": [
        "6. For the Element class, define a method called dump() that prints the values of the object’s attributes (name, symbol, and number). Create the hydrogen object from this new definition and use dump() to print its attributes."
      ]
    },
    {
      "cell_type": "code",
      "metadata": {
        "id": "_jA3Y3yVZnds",
        "colab": {
          "base_uri": "https://localhost:8080/"
        },
        "outputId": "5c4347f0-7e06-40b1-d3a0-04af9b3e492d"
      },
      "source": [
        "class Element:\n",
        "  def __init__(self,name,symbol,number):\n",
        "    self.name = name\n",
        "    self.symbol = symbol\n",
        "    self.number = number\n",
        "  def dump(self):\n",
        "     print('name =%s,symbol =%s,number =%s' %(self.name,self.symbol,self.number))\n",
        "hydrogen =Element(**dict1)\n",
        "hydrogen.dump()      "
      ],
      "execution_count": null,
      "outputs": [
        {
          "output_type": "stream",
          "text": [
            "name =Hydrogen,symbol =H,number =1\n"
          ],
          "name": "stdout"
        }
      ]
    },
    {
      "cell_type": "markdown",
      "metadata": {
        "id": "Jtw2yb16ZoVs"
      },
      "source": [
        "7. Call print(hydrogen). In the definition of Element, change the name of method dump to __str__, create a new hydrogen object, and call print(hydrogen) again."
      ]
    },
    {
      "cell_type": "code",
      "metadata": {
        "id": "Ssj8sKxAZwC0"
      },
      "source": [
        "class Element:\n",
        "  def __init__(self,name,symbol,number):\n",
        "    self.name = name\n",
        "    self.symbol = symbol\n",
        "    self.number = number\n",
        "  def str__init__(self):\n",
        "     print('name =%s,symbol =%s,number =%s' %(self.name,self.symbol,self.number))\n"
      ],
      "execution_count": null,
      "outputs": []
    },
    {
      "cell_type": "code",
      "metadata": {
        "colab": {
          "base_uri": "https://localhost:8080/"
        },
        "id": "hf6Q4lNvunGA",
        "outputId": "8650b90e-91dd-4152-e696-44ca1eb49cdc"
      },
      "source": [
        "hydrogen =Element(**dict1)\n",
        "print('hydrogen')"
      ],
      "execution_count": null,
      "outputs": [
        {
          "output_type": "stream",
          "text": [
            "hydrogen\n"
          ],
          "name": "stdout"
        }
      ]
    },
    {
      "cell_type": "markdown",
      "metadata": {
        "id": "wQkzb8NjZwiR"
      },
      "source": [
        "8. Modify Element to make the attributes name, symbol, and number private. Define a getter property for each to return its value."
      ]
    },
    {
      "cell_type": "code",
      "metadata": {
        "id": "GZvPkcF1Z0nx"
      },
      "source": [
        "class Element: \n",
        "    def __init__(self ,name,symbol,number):\n",
        "        self.__name = name\n",
        "        self.__symbol = symbol\n",
        "        self.__number = number\n",
        "    @property\n",
        "    def name(self):\n",
        "        return (self.__name)\n",
        "    @property\n",
        "    def symbol(self):\n",
        "        return (self.__symbol)\n",
        "    @property\n",
        "    def number(self):\n",
        "        return (self.__number)"
      ],
      "execution_count": null,
      "outputs": []
    },
    {
      "cell_type": "code",
      "metadata": {
        "colab": {
          "base_uri": "https://localhost:8080/",
          "height": 35
        },
        "id": "E7BET-sW8sko",
        "outputId": "d821d8f0-99c0-4791-d6ce-ace2880f9b67"
      },
      "source": [
        "hydrogen =Element(**dict1)\n",
        "hydrogen.name\n",
        "\n"
      ],
      "execution_count": null,
      "outputs": [
        {
          "output_type": "execute_result",
          "data": {
            "application/vnd.google.colaboratory.intrinsic+json": {
              "type": "string"
            },
            "text/plain": [
              "'Hydrogen'"
            ]
          },
          "metadata": {
            "tags": []
          },
          "execution_count": 37
        }
      ]
    },
    {
      "cell_type": "markdown",
      "metadata": {
        "id": "MV2_l-PQZ1LY"
      },
      "source": [
        "9. Define three classes: Bear, Rabbit, and Octothorpe. For each, define only one method: eats(). This should return 'berries' (Bear), 'clover' (Rabbit), or 'campers' (Octothorpe). Create one object from each and print what it eats."
      ]
    },
    {
      "cell_type": "code",
      "metadata": {
        "id": "zsYrlIZDZ7GH"
      },
      "source": [
        "class Bear:\n",
        "  def eats(self):\n",
        "    return 'berries'\n",
        "\n",
        "class Rabbit:\n",
        "   def eats(self):\n",
        "    return 'clover'\n",
        "\n",
        "class Octothorpe:\n",
        "   def eats(self):\n",
        "    return 'campers' \n",
        "\n"
      ],
      "execution_count": null,
      "outputs": []
    },
    {
      "cell_type": "code",
      "metadata": {
        "colab": {
          "base_uri": "https://localhost:8080/"
        },
        "id": "xxuqWCr35kJu",
        "outputId": "85876458-c1f4-49ae-aee7-8bee8d2e5473"
      },
      "source": [
        "bear =Bear()\n",
        "print('Bear eats:',bear.eats())\n",
        "rabbit =Rabbit()\n",
        "print('Rabbit eats:',rabbit.eats())\n",
        "octothorpe =Octothorpe()\n",
        "print('Octothorpe eats:',octothorpe.eats())\n",
        "\n",
        "\n",
        "\n",
        "\n",
        "     "
      ],
      "execution_count": null,
      "outputs": [
        {
          "output_type": "stream",
          "text": [
            "Bear eats: berries\n",
            "Rabbit eats: clover\n",
            "Octothorpe eats: campers\n"
          ],
          "name": "stdout"
        }
      ]
    },
    {
      "cell_type": "markdown",
      "metadata": {
        "id": "SzwtNgSZZ7g8"
      },
      "source": [
        "10. Define these classes: Laser, Claw, and SmartPhone. Each has only one method: does(). This returns 'disintegrate' (Laser), 'crush' (Claw), or 'ring' (SmartPhone). Then, define the class Robot that has one instance (object) of each of these. Define a does() method for the Robot that prints what its component objects do."
      ]
    },
    {
      "cell_type": "code",
      "metadata": {
        "id": "BCsEP3kKZ_U5",
        "colab": {
          "base_uri": "https://localhost:8080/"
        },
        "outputId": "d897982c-e67f-4154-8c94-90caabf39ebd"
      },
      "source": [
        "class Laser:\n",
        "  def does(self):\n",
        "    return 'disintegreate'\n",
        "\n",
        "class Claw:\n",
        "   def does(self):\n",
        "     return 'crush'\n",
        "\n",
        "class SmartPhone:\n",
        "    def does(self):\n",
        "      return 'ring'\n",
        "\n",
        "class Robot:\n",
        "    def __init__(self):\n",
        "      self.Laser =Laser()\n",
        "      self.Claw =Claw()\n",
        "      self.SmartPhone =SmartPhone()\n",
        "\n",
        "    def does(self):\n",
        "      return 'Lasser is %s claw is %s,smartphone is %s' % (self.Laser.does(),self.Claw.does(),self.SmartPhone.does()) \n",
        "robot = Robot()\n",
        "print(robot.does())                "
      ],
      "execution_count": null,
      "outputs": [
        {
          "output_type": "stream",
          "text": [
            "Lasser is disintegreate claw is crush,smartphone is ring\n"
          ],
          "name": "stdout"
        }
      ]
    }
  ]
}