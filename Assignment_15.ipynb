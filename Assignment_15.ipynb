{
  "nbformat": 4,
  "nbformat_minor": 0,
  "metadata": {
    "colab": {
      "name": "Assignment_15.ipynb",
      "provenance": [],
      "collapsed_sections": [],
      "authorship_tag": "ABX9TyOx8lR488pXuxEBf1T89ORQ",
      "include_colab_link": true
    },
    "kernelspec": {
      "name": "python3",
      "display_name": "Python 3"
    },
    "language_info": {
      "name": "python"
    }
  },
  "cells": [
    {
      "cell_type": "markdown",
      "metadata": {
        "id": "view-in-github",
        "colab_type": "text"
      },
      "source": [
        "<a href=\"https://colab.research.google.com/github/Sushanth172308/python_basic_assignments_theory/blob/main/Assignment_15.ipynb\" target=\"_parent\"><img src=\"https://colab.research.google.com/assets/colab-badge.svg\" alt=\"Open In Colab\"/></a>"
      ]
    },
    {
      "cell_type": "markdown",
      "metadata": {
        "id": "NNncsltOiFyp"
      },
      "source": [
        "1. How many seconds are in an hour? Use the interactive interpreter as a calculator and multiply the number of seconds in a minute (60) by the number of minutes in an hour (also 60). sol. 60"
      ]
    },
    {
      "cell_type": "code",
      "metadata": {
        "colab": {
          "base_uri": "https://localhost:8080/"
        },
        "id": "tXdFv7iIfqq1",
        "outputId": "adc2e9ea-8932-40ba-fba1-d8909e85c894"
      },
      "source": [
        "60*60"
      ],
      "execution_count": null,
      "outputs": [
        {
          "output_type": "execute_result",
          "data": {
            "text/plain": [
              "3600"
            ]
          },
          "metadata": {
            "tags": []
          },
          "execution_count": 1
        }
      ]
    },
    {
      "cell_type": "markdown",
      "metadata": {
        "id": "lecNU8gRihqQ"
      },
      "source": [
        "2. Assign the result from the previous task (seconds in an hour) to a variable called seconds_per_hour."
      ]
    },
    {
      "cell_type": "code",
      "metadata": {
        "id": "XKLhk7sYiQT-"
      },
      "source": [
        "seconds_per_hour=3600"
      ],
      "execution_count": null,
      "outputs": []
    },
    {
      "cell_type": "markdown",
      "metadata": {
        "id": "FAtOrkAXjKhb"
      },
      "source": [
        "3. How many seconds do you think there are in a day? Make use of the variables seconds per hour and minutes per hour."
      ]
    },
    {
      "cell_type": "code",
      "metadata": {
        "colab": {
          "base_uri": "https://localhost:8080/"
        },
        "id": "Q-E2CNpZjSqW",
        "outputId": "bcf4f3cc-79dc-4dba-e0a3-7825d695e2be"
      },
      "source": [
        "seconds_per_hour *24"
      ],
      "execution_count": null,
      "outputs": [
        {
          "output_type": "execute_result",
          "data": {
            "text/plain": [
              "86400"
            ]
          },
          "metadata": {
            "tags": []
          },
          "execution_count": 3
        }
      ]
    },
    {
      "cell_type": "markdown",
      "metadata": {
        "id": "2Pyz2J99jdTY"
      },
      "source": [
        "4.Calculate seconds per day again, but this time save the result in a variable called seconds_per_day"
      ]
    },
    {
      "cell_type": "code",
      "metadata": {
        "colab": {
          "base_uri": "https://localhost:8080/"
        },
        "id": "DDMy_9WPjnwd",
        "outputId": "652056cc-b7da-4719-f5d9-f992a8429bc1"
      },
      "source": [
        "seconds_per_day = seconds_per_hour *24\n",
        "seconds_per_day"
      ],
      "execution_count": null,
      "outputs": [
        {
          "output_type": "execute_result",
          "data": {
            "text/plain": [
              "86400"
            ]
          },
          "metadata": {
            "tags": []
          },
          "execution_count": 6
        }
      ]
    },
    {
      "cell_type": "markdown",
      "metadata": {
        "id": "D8-MdjL2j-8s"
      },
      "source": [
        "5.Divide seconds_per_day by seconds_per_hour. Use floating-point (/) division."
      ]
    },
    {
      "cell_type": "code",
      "metadata": {
        "colab": {
          "base_uri": "https://localhost:8080/"
        },
        "id": "ea3rHvegkFNH",
        "outputId": "64cbdc80-18c2-417f-e272-d4782936f043"
      },
      "source": [
        "seconds_per_day / seconds_per_hour"
      ],
      "execution_count": null,
      "outputs": [
        {
          "output_type": "execute_result",
          "data": {
            "text/plain": [
              "24.0"
            ]
          },
          "metadata": {
            "tags": []
          },
          "execution_count": 7
        }
      ]
    },
    {
      "cell_type": "markdown",
      "metadata": {
        "id": "bauCUW1vkS6m"
      },
      "source": [
        "6.Divide seconds_per_day by seconds_per_hour, using integer (//) division. Did this number agree with the floating-point value from the previous question, aside from the final .0?"
      ]
    },
    {
      "cell_type": "code",
      "metadata": {
        "colab": {
          "base_uri": "https://localhost:8080/"
        },
        "id": "Psv4ucRxkZ4l",
        "outputId": "d760dee2-dd0c-46cb-9a36-835d6c481429"
      },
      "source": [
        "seconds_per_day // seconds_per_hour"
      ],
      "execution_count": null,
      "outputs": [
        {
          "output_type": "execute_result",
          "data": {
            "text/plain": [
              "24"
            ]
          },
          "metadata": {
            "tags": []
          },
          "execution_count": 8
        }
      ]
    },
    {
      "cell_type": "markdown",
      "metadata": {
        "id": "x1ohWaxtkgS6"
      },
      "source": [
        "7.Write a generator, genPrimes, that returns the sequence of prime numbers on successive calls to its next() method: 2, 3, 5, 7, 11, ..."
      ]
    },
    {
      "cell_type": "code",
      "metadata": {
        "id": "upe9s-rckiPR",
        "colab": {
          "base_uri": "https://localhost:8080/"
        },
        "outputId": "b84d3ae6-f49e-40b3-980a-9dd1e76a4f3d"
      },
      "source": [
        "def genPrimes():\n",
        "    num = 1\n",
        "    prime = False\n",
        "    while True:\n",
        "        for i in range(2, num+1):\n",
        "            if num % i == 0:\n",
        "                prime = False\n",
        "                if i == num:\n",
        "                    prime = True\n",
        "                break\n",
        "\n",
        "        if prime:\n",
        "            yield num\n",
        "            num += 1\n",
        "        else:\n",
        "            num += 1\n",
        "\n",
        "prime = genPrimes()\n",
        "for _ in range(5):\n",
        "    print(next(prime))\n",
        "\n",
        "  "
      ],
      "execution_count": null,
      "outputs": [
        {
          "output_type": "stream",
          "text": [
            "2\n",
            "3\n",
            "5\n",
            "7\n",
            "11\n"
          ],
          "name": "stdout"
        }
      ]
    }
  ]
}