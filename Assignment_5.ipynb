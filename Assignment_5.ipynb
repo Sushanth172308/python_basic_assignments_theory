{
  "nbformat": 4,
  "nbformat_minor": 0,
  "metadata": {
    "colab": {
      "name": "Assignment_5.ipynb",
      "provenance": [],
      "collapsed_sections": [],
      "authorship_tag": "ABX9TyOVDiSR0x7fEPkBOUg9kWbm",
      "include_colab_link": true
    },
    "kernelspec": {
      "name": "python3",
      "display_name": "Python 3"
    },
    "language_info": {
      "name": "python"
    }
  },
  "cells": [
    {
      "cell_type": "markdown",
      "metadata": {
        "id": "view-in-github",
        "colab_type": "text"
      },
      "source": [
        "<a href=\"https://colab.research.google.com/github/Sushanth172308/python_basic_assignments_theory/blob/main/Assignment_5.ipynb\" target=\"_parent\"><img src=\"https://colab.research.google.com/assets/colab-badge.svg\" alt=\"Open In Colab\"/></a>"
      ]
    },
    {
      "cell_type": "markdown",
      "metadata": {
        "id": "ecSgTUf21OxM"
      },
      "source": [
        "1. What does an empty dictionary's code look like?\n",
        "\n",
        "Answer:\n",
        "\n",
        "dict = {}\n",
        "\n",
        "\n",
        "\n",
        "2. What is the value of a dictionary value with the key 'foo' and the value 42?\n",
        "\n",
        "Answer:\n",
        "\n",
        "dictionay ={'foo': 42}\n",
        "\n",
        "42\n",
        "---\n",
        "\n",
        "\n",
        "3. What is the most significant distinction between a dictionary and a list?\n",
        "\n",
        "Answer:\n",
        "\n",
        "List is a ordered sequence of objects on the other hand dictionaries are unordered key-value pairs.\n",
        "\n",
        "dictionary items  are accessed via Keys but list objects  are accessed via their position.\n",
        "\n",
        "\n",
        "---\n",
        "\n",
        "\n",
        "4. What happens if you try to access spam['foo'] if spam is {'bar': 100}?\n",
        "\n",
        "Answer:\n",
        "\n",
        "The key 'foo' is not present so the program throws an key error.\n",
        "\n",
        "\n",
        "\n",
        "\n",
        "---\n",
        "\n",
        "\n",
        "5. If a dictionary is stored in spam, what is the difference between the expressions 'cat' in spam and 'cat' in spam.keys()?\n",
        "\n",
        "Answer:\n",
        "\n",
        "There is no difference the in operator checks if there is a value exist as key in the dictionary\n",
        "---\n",
        "\n",
        "\n",
        "6. If a dictionary is stored in spam, what is the difference between the expressions 'cat' in spam and 'cat' in spam.values()?\n",
        "\n",
        "Answer:\n",
        "\n",
        "cat in spam checks if there is a cat key in the dictionary whereas spam.values()checks if there is value cat for one the keys in spam.\n",
        "---\n",
        "\n",
        "\n",
        "7. What is a shortcut for the following code?\n",
        "\n",
        "if 'color' not in spam:\n",
        "spam['color'] = 'black'\n",
        "\n",
        "Answer:\n",
        "\n",
        "spam.setdefault('color','blcak')\n",
        "\n",
        "---\n",
        "\n",
        "\n",
        "8. How do you \"pretty print\" dictionary values using which module and function?\n",
        "\n",
        "Answer:\n",
        "pprint.pprint()\n"
      ]
    }
  ]
}